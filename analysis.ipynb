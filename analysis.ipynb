{
 "cells": [
  {
   "cell_type": "code",
   "execution_count": 1,
   "id": "61d5b455",
   "metadata": {},
   "outputs": [],
   "source": [
    "import pandas as pd"
   ]
  },
  {
   "cell_type": "code",
   "execution_count": 2,
   "id": "0db787fb",
   "metadata": {},
   "outputs": [],
   "source": [
    "# how often does a 20 beat a dealer with a 5 when dealer hits on soft 17\n",
    "import blackjack_utils.game_config as gc\n",
    "import blackjack_utils.shoe as shoe\n",
    "import blackjack_utils.card as card\n",
    "import random\n",
    "\n",
    "# create a shoe with 6 decks\n",
    "deck = shoe.Shoe(6)\n",
    "player_cards = [card.Card().from_ints(11, 0), card.Card().from_ints(9, 0)]\n",
    "dealer_card_up = card.Card().from_ints(3, 0)\n",
    "deck.remove(player_cards[0])\n",
    "deck.remove(player_cards[1])\n",
    "deck.remove(dealer_card_up)\n",
    "game_config = gc.GameConfig(6, True, True, True, 1.5)\n",
    "results = []\n",
    "for i in range(100000):\n",
    "    deck_copy = shoe.Shoe(6)\n",
    "    deck_copy.cards = deck.cards.copy()\n",
    "    deck_copy.shuffle()\n",
    "    dealer_cards = [dealer_card_up, deck_copy.draw()]\n",
    "    result = game_config.evaluate(player_cards, dealer_cards, deck_copy)\n",
    "    results.append(result)\n"
   ]
  },
  {
   "cell_type": "code",
   "execution_count": 3,
   "id": "16290e59",
   "metadata": {},
   "outputs": [
    {
     "name": "stdout",
     "output_type": "stream",
     "text": [
      "0.66765\n"
     ]
    }
   ],
   "source": [
    "mean = sum(results) / len(results)\n",
    "print(mean) # 0.67191 - interpretation: expected value is + 0.67 - you profit 67% of your bet on average"
   ]
  },
  {
   "cell_type": "code",
   "execution_count": 4,
   "id": "ce84bf80",
   "metadata": {},
   "outputs": [],
   "source": [
    "# now what happens when the player stays on 17 vs an 8\n",
    "deck = shoe.Shoe(6)\n",
    "player_cards = [card.Card().from_ints(11, 0), card.Card().from_ints(5, 0)]\n",
    "dealer_card_up = card.Card().from_ints(6, 0)\n",
    "deck.remove(player_cards[0])\n",
    "deck.remove(player_cards[1])\n",
    "deck.remove(dealer_card_up)\n",
    "game_config = gc.GameConfig(6, True, True, True, 1.5)\n",
    "results = []\n",
    "for i in range(100000):\n",
    "    deck_copy = shoe.Shoe(6)\n",
    "    deck_copy.cards = deck.cards.copy()\n",
    "    deck_copy.shuffle()\n",
    "    dealer_cards = [dealer_card_up, deck_copy.draw()]\n",
    "    result = game_config.evaluate(player_cards, dealer_cards, deck_copy)\n",
    "    results.append(result)\n"
   ]
  },
  {
   "cell_type": "code",
   "execution_count": 5,
   "id": "e0babf9b",
   "metadata": {},
   "outputs": [
    {
     "name": "stdout",
     "output_type": "stream",
     "text": [
      "-0.38675\n"
     ]
    }
   ],
   "source": [
    "mean = sum(results) / len(results)\n",
    "print(mean) # -0.38408 - interpretation: expected value is -0.38408 - you lose 38% of your bet on average"
   ]
  },
  {
   "cell_type": "code",
   "execution_count": null,
   "id": "a71d9253",
   "metadata": {},
   "outputs": [
    {
     "name": "stderr",
     "output_type": "stream",
     "text": [
      "C:\\Users\\amarl\\AppData\\Local\\Temp\\ipykernel_23372\\896386972.py:21: FutureWarning: The behavior of DataFrame concatenation with empty or all-NA entries is deprecated. In a future version, this will no longer exclude empty or all-NA columns when determining the result dtypes. To retain the old behavior, exclude the relevant entries before the concat operation.\n",
      "  data = pd.concat([data, pd.DataFrame({'player_total': [game_config.score_hand(player_cards)], 'dealer_card_up': [dealer_card_up.get_card_value()], 'expected_value': [mean]})], ignore_index=True)\n"
     ]
    },
    {
     "data": {
      "application/vnd.microsoft.datawrangler.viewer.v0+json": {
       "columns": [
        {
         "name": "index",
         "rawType": "int64",
         "type": "integer"
        },
        {
         "name": "player_total",
         "rawType": "object",
         "type": "unknown"
        },
        {
         "name": "dealer_card_up",
         "rawType": "object",
         "type": "unknown"
        },
        {
         "name": "expected_value",
         "rawType": "float64",
         "type": "float"
        }
       ],
       "ref": "065cfb3c-3c34-4822-afc1-a8252a779c08",
       "rows": [
        [
         "0",
         "17",
         "2",
         "-0.15715"
        ],
        [
         "1",
         "17",
         "3",
         "-0.114375"
        ],
        [
         "2",
         "17",
         "4",
         "-0.086575"
        ],
        [
         "3",
         "17",
         "5",
         "-0.04595"
        ],
        [
         "4",
         "17",
         "6",
         "-0.011725"
        ],
        [
         "5",
         "17",
         "7",
         "-0.1073"
        ],
        [
         "6",
         "17",
         "8",
         "-0.38765"
        ],
        [
         "7",
         "17",
         "9",
         "-0.419225"
        ],
        [
         "8",
         "17",
         "10",
         "-0.456475"
        ],
        [
         "9",
         "17",
         "11",
         "-0.662075"
        ]
       ],
       "shape": {
        "columns": 3,
        "rows": 10
       }
      },
      "text/html": [
       "<div>\n",
       "<style scoped>\n",
       "    .dataframe tbody tr th:only-of-type {\n",
       "        vertical-align: middle;\n",
       "    }\n",
       "\n",
       "    .dataframe tbody tr th {\n",
       "        vertical-align: top;\n",
       "    }\n",
       "\n",
       "    .dataframe thead th {\n",
       "        text-align: right;\n",
       "    }\n",
       "</style>\n",
       "<table border=\"1\" class=\"dataframe\">\n",
       "  <thead>\n",
       "    <tr style=\"text-align: right;\">\n",
       "      <th></th>\n",
       "      <th>player_total</th>\n",
       "      <th>dealer_card_up</th>\n",
       "      <th>expected_value</th>\n",
       "    </tr>\n",
       "  </thead>\n",
       "  <tbody>\n",
       "    <tr>\n",
       "      <th>0</th>\n",
       "      <td>17</td>\n",
       "      <td>2</td>\n",
       "      <td>-0.157150</td>\n",
       "    </tr>\n",
       "    <tr>\n",
       "      <th>1</th>\n",
       "      <td>17</td>\n",
       "      <td>3</td>\n",
       "      <td>-0.114375</td>\n",
       "    </tr>\n",
       "    <tr>\n",
       "      <th>2</th>\n",
       "      <td>17</td>\n",
       "      <td>4</td>\n",
       "      <td>-0.086575</td>\n",
       "    </tr>\n",
       "    <tr>\n",
       "      <th>3</th>\n",
       "      <td>17</td>\n",
       "      <td>5</td>\n",
       "      <td>-0.045950</td>\n",
       "    </tr>\n",
       "    <tr>\n",
       "      <th>4</th>\n",
       "      <td>17</td>\n",
       "      <td>6</td>\n",
       "      <td>-0.011725</td>\n",
       "    </tr>\n",
       "    <tr>\n",
       "      <th>5</th>\n",
       "      <td>17</td>\n",
       "      <td>7</td>\n",
       "      <td>-0.107300</td>\n",
       "    </tr>\n",
       "    <tr>\n",
       "      <th>6</th>\n",
       "      <td>17</td>\n",
       "      <td>8</td>\n",
       "      <td>-0.387650</td>\n",
       "    </tr>\n",
       "    <tr>\n",
       "      <th>7</th>\n",
       "      <td>17</td>\n",
       "      <td>9</td>\n",
       "      <td>-0.419225</td>\n",
       "    </tr>\n",
       "    <tr>\n",
       "      <th>8</th>\n",
       "      <td>17</td>\n",
       "      <td>10</td>\n",
       "      <td>-0.456475</td>\n",
       "    </tr>\n",
       "    <tr>\n",
       "      <th>9</th>\n",
       "      <td>17</td>\n",
       "      <td>11</td>\n",
       "      <td>-0.662075</td>\n",
       "    </tr>\n",
       "  </tbody>\n",
       "</table>\n",
       "</div>"
      ],
      "text/plain": [
       "  player_total dealer_card_up  expected_value\n",
       "0           17              2       -0.157150\n",
       "1           17              3       -0.114375\n",
       "2           17              4       -0.086575\n",
       "3           17              5       -0.045950\n",
       "4           17              6       -0.011725\n",
       "5           17              7       -0.107300\n",
       "6           17              8       -0.387650\n",
       "7           17              9       -0.419225\n",
       "8           17             10       -0.456475\n",
       "9           17             11       -0.662075"
      ]
     },
     "execution_count": 10,
     "metadata": {},
     "output_type": "execute_result"
    }
   ],
   "source": [
    "# gives a breakdown of the EV when a player stands on 17 vs different dealer cards\n",
    "data = pd.DataFrame(columns=['player_total', 'dealer_card_up', 'expected_value'])\n",
    "player_cards = [card.Card().from_ints(11, 0), card.Card().from_ints(5, 0)]\n",
    "\n",
    "game_config = gc.GameConfig(6, True, True, True, 1.5)\n",
    "for i in list(range(9)) + [12]:\n",
    "    dealer_card_up = card.Card().from_ints(i, 0)\n",
    "    deck = shoe.Shoe(6)\n",
    "    deck.remove(player_cards[0])\n",
    "    deck.remove(player_cards[1])\n",
    "    deck.remove(dealer_card_up)\n",
    "    results = []\n",
    "    for i in range(40000):\n",
    "        deck_copy = shoe.Shoe(6)\n",
    "        deck_copy.cards = deck.cards.copy()\n",
    "        deck_copy.shuffle()\n",
    "        dealer_cards = [dealer_card_up, deck_copy.draw()]\n",
    "        result = game_config.evaluate(player_cards, dealer_cards, deck_copy)\n",
    "        results.append(result)\n",
    "\n",
    "    mean = sum(results) / len(results)\n",
    "    data = pd.concat([data, pd.DataFrame({'player_total': [game_config.score_hand(player_cards)], 'dealer_card_up': [dealer_card_up.get_card_value()], 'expected_value': [mean]})], ignore_index=True)\n",
    "data"
   ]
  },
  {
   "cell_type": "code",
   "execution_count": null,
   "id": "b0f2f693",
   "metadata": {},
   "outputs": [],
   "source": [
    "# next up - use logic similar to the above to determine what the player should do in any given situation\n",
    "# start with player has 20 vs each possible dealer card up, analyze the options (hit, stay, double down)\n",
    "# with lower player totals, if a player hits, use the prescribed action after the hit for the new higher total\n",
    "# will have to do a second pass to figure out when to split and what to do with soft totals"
   ]
  }
 ],
 "metadata": {
  "kernelspec": {
   "display_name": ".venv",
   "language": "python",
   "name": "python3"
  },
  "language_info": {
   "codemirror_mode": {
    "name": "ipython",
    "version": 3
   },
   "file_extension": ".py",
   "mimetype": "text/x-python",
   "name": "python",
   "nbconvert_exporter": "python",
   "pygments_lexer": "ipython3",
   "version": "3.10.6"
  }
 },
 "nbformat": 4,
 "nbformat_minor": 5
}
