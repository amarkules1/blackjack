{
 "cells": [
  {
   "cell_type": "code",
   "execution_count": 1,
   "id": "61d5b455",
   "metadata": {},
   "outputs": [],
   "source": [
    "import pandas as pd"
   ]
  },
  {
   "cell_type": "code",
   "execution_count": 15,
   "id": "0db787fb",
   "metadata": {},
   "outputs": [],
   "source": [
    "# how often does a 20 beat a dealer with a 5 when dealer hits on soft 17\n",
    "import blackjack_utils.game_config as gc\n",
    "import blackjack_utils.shoe as shoe\n",
    "import blackjack_utils.card as card\n",
    "import random\n",
    "\n",
    "# create a shoe with 6 decks\n",
    "deck = shoe.Shoe(6)\n",
    "player_cards = [card.Card().from_ints(11, 0), card.Card().from_ints(9, 0)]\n",
    "dealer_card_up = card.Card().from_ints(3, 0)\n",
    "deck.remove(player_cards[0])\n",
    "deck.remove(player_cards[1])\n",
    "deck.remove(dealer_card_up)\n",
    "game_config = gc.GameConfig(6, True, True, True, 1.5)\n",
    "results = []\n",
    "for i in range(100000):\n",
    "    deck_copy = shoe.Shoe(6)\n",
    "    deck_copy.cards = deck.cards.copy()\n",
    "    deck_copy.shuffle()\n",
    "    dealer_cards = [dealer_card_up, deck_copy.draw()]\n",
    "    result = game_config.evaluate(player_cards, dealer_cards, deck_copy)\n",
    "    results.append(result)\n"
   ]
  },
  {
   "cell_type": "code",
   "execution_count": null,
   "id": "16290e59",
   "metadata": {},
   "outputs": [
    {
     "name": "stdout",
     "output_type": "stream",
     "text": [
      "0.67191\n"
     ]
    }
   ],
   "source": [
    "mean = sum(results) / len(results)\n",
    "print(mean) # 0.67191 - interpretation: expected value is + 0.67 - you profit 67% of your bet on average"
   ]
  },
  {
   "cell_type": "code",
   "execution_count": 17,
   "id": "ce84bf80",
   "metadata": {},
   "outputs": [],
   "source": [
    "# now what happens when the player stays on 17 vs an 8\n",
    "deck = shoe.Shoe(6)\n",
    "player_cards = [card.Card().from_ints(11, 0), card.Card().from_ints(5, 0)]\n",
    "dealer_card_up = card.Card().from_ints(6, 0)\n",
    "deck.remove(player_cards[0])\n",
    "deck.remove(player_cards[1])\n",
    "deck.remove(dealer_card_up)\n",
    "game_config = gc.GameConfig(6, True, True, True, 1.5)\n",
    "results = []\n",
    "for i in range(100000):\n",
    "    deck_copy = shoe.Shoe(6)\n",
    "    deck_copy.cards = deck.cards.copy()\n",
    "    deck_copy.shuffle()\n",
    "    dealer_cards = [dealer_card_up, deck_copy.draw()]\n",
    "    result = game_config.evaluate(player_cards, dealer_cards, deck_copy)\n",
    "    results.append(result)\n"
   ]
  },
  {
   "cell_type": "code",
   "execution_count": null,
   "id": "e0babf9b",
   "metadata": {},
   "outputs": [
    {
     "name": "stdout",
     "output_type": "stream",
     "text": [
      "-0.38408\n"
     ]
    }
   ],
   "source": [
    "mean = sum(results) / len(results)\n",
    "print(mean) # -0.38408 - interpretation: expected value is -0.38408 - you lose 38% of your bet on average"
   ]
  }
 ],
 "metadata": {
  "kernelspec": {
   "display_name": ".venv",
   "language": "python",
   "name": "python3"
  },
  "language_info": {
   "codemirror_mode": {
    "name": "ipython",
    "version": 3
   },
   "file_extension": ".py",
   "mimetype": "text/x-python",
   "name": "python",
   "nbconvert_exporter": "python",
   "pygments_lexer": "ipython3",
   "version": "3.10.6"
  }
 },
 "nbformat": 4,
 "nbformat_minor": 5
}
