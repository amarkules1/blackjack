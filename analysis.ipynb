{
 "cells": [
  {
   "cell_type": "code",
   "execution_count": 1,
   "id": "61d5b455",
   "metadata": {},
   "outputs": [],
   "source": [
    "import pandas as pd"
   ]
  },
  {
   "cell_type": "code",
   "execution_count": 2,
   "id": "0db787fb",
   "metadata": {},
   "outputs": [],
   "source": [
    "# how often does a 20 beat a dealer with a 5 when dealer hits on soft 17\n",
    "import blackjack_utils.game_config as gc\n",
    "import blackjack_utils.shoe as shoe\n",
    "import blackjack_utils.card as card\n",
    "import random\n",
    "\n",
    "# create a shoe with 6 decks\n",
    "deck = shoe.Shoe(6)\n",
    "player_cards = [card.Card().from_ints(11, 0), card.Card().from_ints(9, 0)]\n",
    "dealer_card_up = card.Card().from_ints(3, 0)\n",
    "deck.remove(player_cards[0])\n",
    "deck.remove(player_cards[1])\n",
    "deck.remove(dealer_card_up)\n",
    "game_config = gc.GameConfig(6, True, True, True, 1.5)\n",
    "results = []\n",
    "for i in range(100000):\n",
    "    deck_copy = shoe.Shoe(6)\n",
    "    deck_copy.cards = deck.cards.copy()\n",
    "    deck_copy.shuffle()\n",
    "    dealer_cards = [dealer_card_up, deck_copy.draw()]\n",
    "    result = game_config.evaluate(player_cards, dealer_cards, deck_copy)\n",
    "    results.append(result)\n"
   ]
  },
  {
   "cell_type": "code",
   "execution_count": 3,
   "id": "16290e59",
   "metadata": {},
   "outputs": [
    {
     "name": "stdout",
     "output_type": "stream",
     "text": [
      "0.66765\n"
     ]
    }
   ],
   "source": [
    "mean = sum(results) / len(results)\n",
    "print(mean) # 0.67191 - interpretation: expected value is + 0.67 - you profit 67% of your bet on average"
   ]
  },
  {
   "cell_type": "code",
   "execution_count": 4,
   "id": "ce84bf80",
   "metadata": {},
   "outputs": [],
   "source": [
    "# now what happens when the player stays on 17 vs an 8\n",
    "deck = shoe.Shoe(6)\n",
    "player_cards = [card.Card().from_ints(11, 0), card.Card().from_ints(5, 0)]\n",
    "dealer_card_up = card.Card().from_ints(6, 0)\n",
    "deck.remove(player_cards[0])\n",
    "deck.remove(player_cards[1])\n",
    "deck.remove(dealer_card_up)\n",
    "game_config = gc.GameConfig(6, True, True, True, 1.5)\n",
    "results = []\n",
    "for i in range(100000):\n",
    "    deck_copy = shoe.Shoe(6)\n",
    "    deck_copy.cards = deck.cards.copy()\n",
    "    deck_copy.shuffle()\n",
    "    dealer_cards = [dealer_card_up, deck_copy.draw()]\n",
    "    result = game_config.evaluate(player_cards, dealer_cards, deck_copy)\n",
    "    results.append(result)\n"
   ]
  },
  {
   "cell_type": "code",
   "execution_count": 5,
   "id": "e0babf9b",
   "metadata": {},
   "outputs": [
    {
     "name": "stdout",
     "output_type": "stream",
     "text": [
      "-0.38675\n"
     ]
    }
   ],
   "source": [
    "mean = sum(results) / len(results)\n",
    "print(mean) # -0.38408 - interpretation: expected value is -0.38408 - you lose 38% of your bet on average"
   ]
  },
  {
   "cell_type": "code",
   "execution_count": null,
   "id": "a71d9253",
   "metadata": {},
   "outputs": [
    {
     "name": "stderr",
     "output_type": "stream",
     "text": [
      "C:\\Users\\amarl\\AppData\\Local\\Temp\\ipykernel_23372\\896386972.py:21: FutureWarning: The behavior of DataFrame concatenation with empty or all-NA entries is deprecated. In a future version, this will no longer exclude empty or all-NA columns when determining the result dtypes. To retain the old behavior, exclude the relevant entries before the concat operation.\n",
      "  data = pd.concat([data, pd.DataFrame({'player_total': [game_config.score_hand(player_cards)], 'dealer_card_up': [dealer_card_up.get_card_value()], 'expected_value': [mean]})], ignore_index=True)\n"
     ]
    },
    {
     "data": {
      "application/vnd.microsoft.datawrangler.viewer.v0+json": {
       "columns": [
        {
         "name": "index",
         "rawType": "int64",
         "type": "integer"
        },
        {
         "name": "player_total",
         "rawType": "object",
         "type": "unknown"
        },
        {
         "name": "dealer_card_up",
         "rawType": "object",
         "type": "unknown"
        },
        {
         "name": "expected_value",
         "rawType": "float64",
         "type": "float"
        }
       ],
       "ref": "065cfb3c-3c34-4822-afc1-a8252a779c08",
       "rows": [
        [
         "0",
         "17",
         "2",
         "-0.15715"
        ],
        [
         "1",
         "17",
         "3",
         "-0.114375"
        ],
        [
         "2",
         "17",
         "4",
         "-0.086575"
        ],
        [
         "3",
         "17",
         "5",
         "-0.04595"
        ],
        [
         "4",
         "17",
         "6",
         "-0.011725"
        ],
        [
         "5",
         "17",
         "7",
         "-0.1073"
        ],
        [
         "6",
         "17",
         "8",
         "-0.38765"
        ],
        [
         "7",
         "17",
         "9",
         "-0.419225"
        ],
        [
         "8",
         "17",
         "10",
         "-0.456475"
        ],
        [
         "9",
         "17",
         "11",
         "-0.662075"
        ]
       ],
       "shape": {
        "columns": 3,
        "rows": 10
       }
      },
      "text/html": [
       "<div>\n",
       "<style scoped>\n",
       "    .dataframe tbody tr th:only-of-type {\n",
       "        vertical-align: middle;\n",
       "    }\n",
       "\n",
       "    .dataframe tbody tr th {\n",
       "        vertical-align: top;\n",
       "    }\n",
       "\n",
       "    .dataframe thead th {\n",
       "        text-align: right;\n",
       "    }\n",
       "</style>\n",
       "<table border=\"1\" class=\"dataframe\">\n",
       "  <thead>\n",
       "    <tr style=\"text-align: right;\">\n",
       "      <th></th>\n",
       "      <th>player_total</th>\n",
       "      <th>dealer_card_up</th>\n",
       "      <th>expected_value</th>\n",
       "    </tr>\n",
       "  </thead>\n",
       "  <tbody>\n",
       "    <tr>\n",
       "      <th>0</th>\n",
       "      <td>17</td>\n",
       "      <td>2</td>\n",
       "      <td>-0.157150</td>\n",
       "    </tr>\n",
       "    <tr>\n",
       "      <th>1</th>\n",
       "      <td>17</td>\n",
       "      <td>3</td>\n",
       "      <td>-0.114375</td>\n",
       "    </tr>\n",
       "    <tr>\n",
       "      <th>2</th>\n",
       "      <td>17</td>\n",
       "      <td>4</td>\n",
       "      <td>-0.086575</td>\n",
       "    </tr>\n",
       "    <tr>\n",
       "      <th>3</th>\n",
       "      <td>17</td>\n",
       "      <td>5</td>\n",
       "      <td>-0.045950</td>\n",
       "    </tr>\n",
       "    <tr>\n",
       "      <th>4</th>\n",
       "      <td>17</td>\n",
       "      <td>6</td>\n",
       "      <td>-0.011725</td>\n",
       "    </tr>\n",
       "    <tr>\n",
       "      <th>5</th>\n",
       "      <td>17</td>\n",
       "      <td>7</td>\n",
       "      <td>-0.107300</td>\n",
       "    </tr>\n",
       "    <tr>\n",
       "      <th>6</th>\n",
       "      <td>17</td>\n",
       "      <td>8</td>\n",
       "      <td>-0.387650</td>\n",
       "    </tr>\n",
       "    <tr>\n",
       "      <th>7</th>\n",
       "      <td>17</td>\n",
       "      <td>9</td>\n",
       "      <td>-0.419225</td>\n",
       "    </tr>\n",
       "    <tr>\n",
       "      <th>8</th>\n",
       "      <td>17</td>\n",
       "      <td>10</td>\n",
       "      <td>-0.456475</td>\n",
       "    </tr>\n",
       "    <tr>\n",
       "      <th>9</th>\n",
       "      <td>17</td>\n",
       "      <td>11</td>\n",
       "      <td>-0.662075</td>\n",
       "    </tr>\n",
       "  </tbody>\n",
       "</table>\n",
       "</div>"
      ],
      "text/plain": [
       "  player_total dealer_card_up  expected_value\n",
       "0           17              2       -0.157150\n",
       "1           17              3       -0.114375\n",
       "2           17              4       -0.086575\n",
       "3           17              5       -0.045950\n",
       "4           17              6       -0.011725\n",
       "5           17              7       -0.107300\n",
       "6           17              8       -0.387650\n",
       "7           17              9       -0.419225\n",
       "8           17             10       -0.456475\n",
       "9           17             11       -0.662075"
      ]
     },
     "execution_count": 10,
     "metadata": {},
     "output_type": "execute_result"
    }
   ],
   "source": [
    "# gives a breakdown of the EV when a player stands on 17 vs different dealer cards\n",
    "data = pd.DataFrame(columns=['player_total', 'dealer_card_up', 'expected_value'])\n",
    "player_cards = [card.Card().from_ints(11, 0), card.Card().from_ints(5, 0)]\n",
    "\n",
    "game_config = gc.GameConfig(6, True, True, True, 1.5)\n",
    "for i in list(range(9)) + [12]:\n",
    "    dealer_card_up = card.Card().from_ints(i, 0)\n",
    "    deck = shoe.Shoe(6)\n",
    "    deck.remove(player_cards[0])\n",
    "    deck.remove(player_cards[1])\n",
    "    deck.remove(dealer_card_up)\n",
    "    results = []\n",
    "    for i in range(40000):\n",
    "        deck_copy = shoe.Shoe(6)\n",
    "        deck_copy.cards = deck.cards.copy()\n",
    "        deck_copy.shuffle()\n",
    "        dealer_cards = [dealer_card_up, deck_copy.draw()]\n",
    "        result = game_config.evaluate(player_cards, dealer_cards, deck_copy)\n",
    "        results.append(result)\n",
    "\n",
    "    mean = sum(results) / len(results)\n",
    "    data = pd.concat([data, pd.DataFrame({'player_total': [game_config.score_hand(player_cards)], 'dealer_card_up': [dealer_card_up.get_card_value()], 'expected_value': [mean]})], ignore_index=True)\n",
    "data"
   ]
  },
  {
   "cell_type": "code",
   "execution_count": 11,
   "id": "b0f2f693",
   "metadata": {},
   "outputs": [
    {
     "name": "stderr",
     "output_type": "stream",
     "text": [
      "C:\\Users\\amarl\\AppData\\Local\\Temp\\ipykernel_23372\\4172874134.py:29: FutureWarning: The behavior of DataFrame concatenation with empty or all-NA entries is deprecated. In a future version, this will no longer exclude empty or all-NA columns when determining the result dtypes. To retain the old behavior, exclude the relevant entries before the concat operation.\n",
      "  data = pd.concat([data, pd.DataFrame({'player_total': [game_config.score_hand(player_cards)], 'action': ['stand'], 'dealer_card_up': [dealer_card_up.get_card_value()], 'expected_value': [mean]})], ignore_index=True)\n"
     ]
    },
    {
     "data": {
      "application/vnd.microsoft.datawrangler.viewer.v0+json": {
       "columns": [
        {
         "name": "index",
         "rawType": "int64",
         "type": "integer"
        },
        {
         "name": "player_total",
         "rawType": "object",
         "type": "unknown"
        },
        {
         "name": "action",
         "rawType": "object",
         "type": "string"
        },
        {
         "name": "dealer_card_up",
         "rawType": "object",
         "type": "unknown"
        },
        {
         "name": "expected_value",
         "rawType": "float64",
         "type": "float"
        }
       ],
       "ref": "6af65170-c686-4c78-9ddb-30f541fa5685",
       "rows": [
        [
         "11",
         "20",
         "double",
         "2",
         "-1.7063"
        ],
        [
         "10",
         "20",
         "hit",
         "2",
         "-0.85315"
        ],
        [
         "0",
         "20",
         "stand",
         "2",
         "0.6336"
        ],
        [
         "13",
         "20",
         "double",
         "3",
         "-1.70875"
        ],
        [
         "12",
         "20",
         "hit",
         "3",
         "-0.854375"
        ],
        [
         "1",
         "20",
         "stand",
         "3",
         "0.6383"
        ],
        [
         "15",
         "20",
         "double",
         "4",
         "-1.7133"
        ],
        [
         "14",
         "20",
         "hit",
         "4",
         "-0.85665"
        ],
        [
         "2",
         "20",
         "stand",
         "4",
         "0.651275"
        ],
        [
         "17",
         "20",
         "double",
         "5",
         "-1.69805"
        ],
        [
         "16",
         "20",
         "hit",
         "5",
         "-0.849025"
        ],
        [
         "3",
         "20",
         "stand",
         "5",
         "0.66985"
        ],
        [
         "19",
         "20",
         "double",
         "6",
         "-1.70505"
        ],
        [
         "18",
         "20",
         "hit",
         "6",
         "-0.852525"
        ],
        [
         "4",
         "20",
         "stand",
         "6",
         "0.676675"
        ],
        [
         "21",
         "20",
         "double",
         "7",
         "-1.6863"
        ],
        [
         "20",
         "20",
         "hit",
         "7",
         "-0.84315"
        ],
        [
         "5",
         "20",
         "stand",
         "7",
         "0.77005"
        ],
        [
         "23",
         "20",
         "double",
         "8",
         "-1.6989"
        ],
        [
         "22",
         "20",
         "hit",
         "8",
         "-0.84945"
        ],
        [
         "6",
         "20",
         "stand",
         "8",
         "0.788125"
        ],
        [
         "25",
         "20",
         "double",
         "9",
         "-1.69345"
        ],
        [
         "24",
         "20",
         "hit",
         "9",
         "-0.846725"
        ],
        [
         "7",
         "20",
         "stand",
         "9",
         "0.756425"
        ],
        [
         "27",
         "20",
         "double",
         "10",
         "-1.71045"
        ],
        [
         "26",
         "20",
         "hit",
         "10",
         "-0.855225"
        ],
        [
         "8",
         "20",
         "stand",
         "10",
         "0.434475"
        ],
        [
         "29",
         "20",
         "double",
         "11",
         "-1.7551"
        ],
        [
         "28",
         "20",
         "hit",
         "11",
         "-0.87755"
        ],
        [
         "9",
         "20",
         "stand",
         "11",
         "0.107125"
        ]
       ],
       "shape": {
        "columns": 4,
        "rows": 30
       }
      },
      "text/html": [
       "<div>\n",
       "<style scoped>\n",
       "    .dataframe tbody tr th:only-of-type {\n",
       "        vertical-align: middle;\n",
       "    }\n",
       "\n",
       "    .dataframe tbody tr th {\n",
       "        vertical-align: top;\n",
       "    }\n",
       "\n",
       "    .dataframe thead th {\n",
       "        text-align: right;\n",
       "    }\n",
       "</style>\n",
       "<table border=\"1\" class=\"dataframe\">\n",
       "  <thead>\n",
       "    <tr style=\"text-align: right;\">\n",
       "      <th></th>\n",
       "      <th>player_total</th>\n",
       "      <th>action</th>\n",
       "      <th>dealer_card_up</th>\n",
       "      <th>expected_value</th>\n",
       "    </tr>\n",
       "  </thead>\n",
       "  <tbody>\n",
       "    <tr>\n",
       "      <th>11</th>\n",
       "      <td>20</td>\n",
       "      <td>double</td>\n",
       "      <td>2</td>\n",
       "      <td>-1.706300</td>\n",
       "    </tr>\n",
       "    <tr>\n",
       "      <th>10</th>\n",
       "      <td>20</td>\n",
       "      <td>hit</td>\n",
       "      <td>2</td>\n",
       "      <td>-0.853150</td>\n",
       "    </tr>\n",
       "    <tr>\n",
       "      <th>0</th>\n",
       "      <td>20</td>\n",
       "      <td>stand</td>\n",
       "      <td>2</td>\n",
       "      <td>0.633600</td>\n",
       "    </tr>\n",
       "    <tr>\n",
       "      <th>13</th>\n",
       "      <td>20</td>\n",
       "      <td>double</td>\n",
       "      <td>3</td>\n",
       "      <td>-1.708750</td>\n",
       "    </tr>\n",
       "    <tr>\n",
       "      <th>12</th>\n",
       "      <td>20</td>\n",
       "      <td>hit</td>\n",
       "      <td>3</td>\n",
       "      <td>-0.854375</td>\n",
       "    </tr>\n",
       "    <tr>\n",
       "      <th>1</th>\n",
       "      <td>20</td>\n",
       "      <td>stand</td>\n",
       "      <td>3</td>\n",
       "      <td>0.638300</td>\n",
       "    </tr>\n",
       "    <tr>\n",
       "      <th>15</th>\n",
       "      <td>20</td>\n",
       "      <td>double</td>\n",
       "      <td>4</td>\n",
       "      <td>-1.713300</td>\n",
       "    </tr>\n",
       "    <tr>\n",
       "      <th>14</th>\n",
       "      <td>20</td>\n",
       "      <td>hit</td>\n",
       "      <td>4</td>\n",
       "      <td>-0.856650</td>\n",
       "    </tr>\n",
       "    <tr>\n",
       "      <th>2</th>\n",
       "      <td>20</td>\n",
       "      <td>stand</td>\n",
       "      <td>4</td>\n",
       "      <td>0.651275</td>\n",
       "    </tr>\n",
       "    <tr>\n",
       "      <th>17</th>\n",
       "      <td>20</td>\n",
       "      <td>double</td>\n",
       "      <td>5</td>\n",
       "      <td>-1.698050</td>\n",
       "    </tr>\n",
       "    <tr>\n",
       "      <th>16</th>\n",
       "      <td>20</td>\n",
       "      <td>hit</td>\n",
       "      <td>5</td>\n",
       "      <td>-0.849025</td>\n",
       "    </tr>\n",
       "    <tr>\n",
       "      <th>3</th>\n",
       "      <td>20</td>\n",
       "      <td>stand</td>\n",
       "      <td>5</td>\n",
       "      <td>0.669850</td>\n",
       "    </tr>\n",
       "    <tr>\n",
       "      <th>19</th>\n",
       "      <td>20</td>\n",
       "      <td>double</td>\n",
       "      <td>6</td>\n",
       "      <td>-1.705050</td>\n",
       "    </tr>\n",
       "    <tr>\n",
       "      <th>18</th>\n",
       "      <td>20</td>\n",
       "      <td>hit</td>\n",
       "      <td>6</td>\n",
       "      <td>-0.852525</td>\n",
       "    </tr>\n",
       "    <tr>\n",
       "      <th>4</th>\n",
       "      <td>20</td>\n",
       "      <td>stand</td>\n",
       "      <td>6</td>\n",
       "      <td>0.676675</td>\n",
       "    </tr>\n",
       "    <tr>\n",
       "      <th>21</th>\n",
       "      <td>20</td>\n",
       "      <td>double</td>\n",
       "      <td>7</td>\n",
       "      <td>-1.686300</td>\n",
       "    </tr>\n",
       "    <tr>\n",
       "      <th>20</th>\n",
       "      <td>20</td>\n",
       "      <td>hit</td>\n",
       "      <td>7</td>\n",
       "      <td>-0.843150</td>\n",
       "    </tr>\n",
       "    <tr>\n",
       "      <th>5</th>\n",
       "      <td>20</td>\n",
       "      <td>stand</td>\n",
       "      <td>7</td>\n",
       "      <td>0.770050</td>\n",
       "    </tr>\n",
       "    <tr>\n",
       "      <th>23</th>\n",
       "      <td>20</td>\n",
       "      <td>double</td>\n",
       "      <td>8</td>\n",
       "      <td>-1.698900</td>\n",
       "    </tr>\n",
       "    <tr>\n",
       "      <th>22</th>\n",
       "      <td>20</td>\n",
       "      <td>hit</td>\n",
       "      <td>8</td>\n",
       "      <td>-0.849450</td>\n",
       "    </tr>\n",
       "    <tr>\n",
       "      <th>6</th>\n",
       "      <td>20</td>\n",
       "      <td>stand</td>\n",
       "      <td>8</td>\n",
       "      <td>0.788125</td>\n",
       "    </tr>\n",
       "    <tr>\n",
       "      <th>25</th>\n",
       "      <td>20</td>\n",
       "      <td>double</td>\n",
       "      <td>9</td>\n",
       "      <td>-1.693450</td>\n",
       "    </tr>\n",
       "    <tr>\n",
       "      <th>24</th>\n",
       "      <td>20</td>\n",
       "      <td>hit</td>\n",
       "      <td>9</td>\n",
       "      <td>-0.846725</td>\n",
       "    </tr>\n",
       "    <tr>\n",
       "      <th>7</th>\n",
       "      <td>20</td>\n",
       "      <td>stand</td>\n",
       "      <td>9</td>\n",
       "      <td>0.756425</td>\n",
       "    </tr>\n",
       "    <tr>\n",
       "      <th>27</th>\n",
       "      <td>20</td>\n",
       "      <td>double</td>\n",
       "      <td>10</td>\n",
       "      <td>-1.710450</td>\n",
       "    </tr>\n",
       "    <tr>\n",
       "      <th>26</th>\n",
       "      <td>20</td>\n",
       "      <td>hit</td>\n",
       "      <td>10</td>\n",
       "      <td>-0.855225</td>\n",
       "    </tr>\n",
       "    <tr>\n",
       "      <th>8</th>\n",
       "      <td>20</td>\n",
       "      <td>stand</td>\n",
       "      <td>10</td>\n",
       "      <td>0.434475</td>\n",
       "    </tr>\n",
       "    <tr>\n",
       "      <th>29</th>\n",
       "      <td>20</td>\n",
       "      <td>double</td>\n",
       "      <td>11</td>\n",
       "      <td>-1.755100</td>\n",
       "    </tr>\n",
       "    <tr>\n",
       "      <th>28</th>\n",
       "      <td>20</td>\n",
       "      <td>hit</td>\n",
       "      <td>11</td>\n",
       "      <td>-0.877550</td>\n",
       "    </tr>\n",
       "    <tr>\n",
       "      <th>9</th>\n",
       "      <td>20</td>\n",
       "      <td>stand</td>\n",
       "      <td>11</td>\n",
       "      <td>0.107125</td>\n",
       "    </tr>\n",
       "  </tbody>\n",
       "</table>\n",
       "</div>"
      ],
      "text/plain": [
       "   player_total  action dealer_card_up  expected_value\n",
       "11           20  double              2       -1.706300\n",
       "10           20     hit              2       -0.853150\n",
       "0            20   stand              2        0.633600\n",
       "13           20  double              3       -1.708750\n",
       "12           20     hit              3       -0.854375\n",
       "1            20   stand              3        0.638300\n",
       "15           20  double              4       -1.713300\n",
       "14           20     hit              4       -0.856650\n",
       "2            20   stand              4        0.651275\n",
       "17           20  double              5       -1.698050\n",
       "16           20     hit              5       -0.849025\n",
       "3            20   stand              5        0.669850\n",
       "19           20  double              6       -1.705050\n",
       "18           20     hit              6       -0.852525\n",
       "4            20   stand              6        0.676675\n",
       "21           20  double              7       -1.686300\n",
       "20           20     hit              7       -0.843150\n",
       "5            20   stand              7        0.770050\n",
       "23           20  double              8       -1.698900\n",
       "22           20     hit              8       -0.849450\n",
       "6            20   stand              8        0.788125\n",
       "25           20  double              9       -1.693450\n",
       "24           20     hit              9       -0.846725\n",
       "7            20   stand              9        0.756425\n",
       "27           20  double             10       -1.710450\n",
       "26           20     hit             10       -0.855225\n",
       "8            20   stand             10        0.434475\n",
       "29           20  double             11       -1.755100\n",
       "28           20     hit             11       -0.877550\n",
       "9            20   stand             11        0.107125"
      ]
     },
     "execution_count": 11,
     "metadata": {},
     "output_type": "execute_result"
    }
   ],
   "source": [
    "# next up - use logic similar to the above to determine what the player should do in any given situation\n",
    "# start with player has 20 vs each possible dealer card up, analyze the options (hit, stay, double down)\n",
    "# with lower player totals, if a player hits, use the prescribed action after the hit for the new higher total\n",
    "# will have to do a second pass to figure out when to split and what to do with soft totals\n",
    "# this should give us the basic strategy table. check if it matches what the pros say\n",
    "\n",
    "# gives a breakdown of the EV when a player stands, hits, or doubles on hard 20 vs different dealer cards\n",
    "data = pd.DataFrame(columns=['player_total', 'action', 'dealer_card_up', 'expected_value'])\n",
    "player_cards = [card.Card().from_ints(11, 0), card.Card().from_ints(10, 0)]\n",
    "\n",
    "game_config = gc.GameConfig(6, True, True, True, 1.5)\n",
    "# stand \n",
    "for i in list(range(9)) + [12]:\n",
    "    dealer_card_up = card.Card().from_ints(i, 0)\n",
    "    deck = shoe.Shoe(6)\n",
    "    deck.remove(player_cards[0])\n",
    "    deck.remove(player_cards[1])\n",
    "    deck.remove(dealer_card_up)\n",
    "    results = []\n",
    "    for i in range(40000):\n",
    "        deck_copy = shoe.Shoe(6)\n",
    "        deck_copy.cards = deck.cards.copy()\n",
    "        deck_copy.shuffle()\n",
    "        dealer_cards = [dealer_card_up, deck_copy.draw()]\n",
    "        result = game_config.evaluate(player_cards, dealer_cards, deck_copy)\n",
    "        results.append(result)\n",
    "\n",
    "    mean = sum(results) / len(results)\n",
    "    data = pd.concat([data, pd.DataFrame({'player_total': [game_config.score_hand(player_cards)], 'action': ['stand'], 'dealer_card_up': [dealer_card_up.get_card_value()], 'expected_value': [mean]})], ignore_index=True)\n",
    "# hit/double \n",
    "for i in list(range(9)) + [12]:\n",
    "    dealer_card_up = card.Card().from_ints(i, 0)\n",
    "    deck = shoe.Shoe(6)\n",
    "    deck.remove(player_cards[0])\n",
    "    deck.remove(player_cards[1])\n",
    "    deck.remove(dealer_card_up)\n",
    "    results = []\n",
    "    results_double = []\n",
    "    for i in range(40000):\n",
    "        deck_copy = shoe.Shoe(6)\n",
    "        deck_copy.cards = deck.cards.copy()\n",
    "        deck_copy.shuffle()\n",
    "        dealer_cards = [dealer_card_up, deck_copy.draw()]\n",
    "        player_cards_copy = player_cards.copy()\n",
    "        player_cards_copy.append(deck_copy.draw())\n",
    "        result = game_config.evaluate(player_cards_copy, dealer_cards, deck_copy)\n",
    "        results.append(result)\n",
    "        results_double.append(result * 2)\n",
    "\n",
    "    mean = sum(results) / len(results)\n",
    "    mean_double = sum(results_double) / len(results_double)\n",
    "    data = pd.concat([data, pd.DataFrame({'player_total': [game_config.score_hand(player_cards)], 'action': ['hit'], 'dealer_card_up': [dealer_card_up.get_card_value()], 'expected_value': [mean]})], ignore_index=True)\n",
    "    data = pd.concat([data, pd.DataFrame({'player_total': [game_config.score_hand(player_cards)], 'action': ['double'], 'dealer_card_up': [dealer_card_up.get_card_value()], 'expected_value': [mean_double]})], ignore_index=True)\n",
    "data.sort_values(by=['player_total', 'dealer_card_up', 'action'])"
   ]
  },
  {
   "cell_type": "code",
   "execution_count": 12,
   "id": "6f2d1781",
   "metadata": {},
   "outputs": [],
   "source": [
    "data.to_csv('action_expected_values.csv')"
   ]
  },
  {
   "cell_type": "code",
   "execution_count": 18,
   "id": "1a8e23d9",
   "metadata": {},
   "outputs": [
    {
     "data": {
      "application/vnd.microsoft.datawrangler.viewer.v0+json": {
       "columns": [
        {
         "name": "('player_total', 'dealer_card_up')",
         "rawType": "object",
         "type": "unknown"
        },
        {
         "name": "double",
         "rawType": "float64",
         "type": "float"
        },
        {
         "name": "hit",
         "rawType": "float64",
         "type": "float"
        },
        {
         "name": "stand",
         "rawType": "float64",
         "type": "float"
        }
       ],
       "ref": "46034847-3c9f-4046-84a8-faa5a677549b",
       "rows": [
        [
         "('20', '10')",
         "-1.71045",
         "-0.855225",
         "0.434475"
        ],
        [
         "('20', '11')",
         "-1.7551",
         "-0.87755",
         "0.107125"
        ],
        [
         "('20', '2')",
         "-1.7063",
         "-0.85315",
         "0.6336"
        ],
        [
         "('20', '3')",
         "-1.70875",
         "-0.854375",
         "0.6383"
        ],
        [
         "('20', '4')",
         "-1.7133",
         "-0.85665",
         "0.651275"
        ],
        [
         "('20', '5')",
         "-1.69805",
         "-0.849025",
         "0.66985"
        ],
        [
         "('20', '6')",
         "-1.70505",
         "-0.852525",
         "0.676675"
        ],
        [
         "('20', '7')",
         "-1.6863",
         "-0.84315",
         "0.77005"
        ],
        [
         "('20', '8')",
         "-1.6989",
         "-0.84945",
         "0.788125"
        ],
        [
         "('20', '9')",
         "-1.69345",
         "-0.846725",
         "0.756425"
        ]
       ],
       "shape": {
        "columns": 3,
        "rows": 10
       }
      },
      "text/html": [
       "<div>\n",
       "<style scoped>\n",
       "    .dataframe tbody tr th:only-of-type {\n",
       "        vertical-align: middle;\n",
       "    }\n",
       "\n",
       "    .dataframe tbody tr th {\n",
       "        vertical-align: top;\n",
       "    }\n",
       "\n",
       "    .dataframe thead th {\n",
       "        text-align: right;\n",
       "    }\n",
       "</style>\n",
       "<table border=\"1\" class=\"dataframe\">\n",
       "  <thead>\n",
       "    <tr style=\"text-align: right;\">\n",
       "      <th></th>\n",
       "      <th>action</th>\n",
       "      <th>double</th>\n",
       "      <th>hit</th>\n",
       "      <th>stand</th>\n",
       "    </tr>\n",
       "    <tr>\n",
       "      <th>player_total</th>\n",
       "      <th>dealer_card_up</th>\n",
       "      <th></th>\n",
       "      <th></th>\n",
       "      <th></th>\n",
       "    </tr>\n",
       "  </thead>\n",
       "  <tbody>\n",
       "    <tr>\n",
       "      <th rowspan=\"10\" valign=\"top\">20</th>\n",
       "      <th>10</th>\n",
       "      <td>-1.71045</td>\n",
       "      <td>-0.855225</td>\n",
       "      <td>0.434475</td>\n",
       "    </tr>\n",
       "    <tr>\n",
       "      <th>11</th>\n",
       "      <td>-1.75510</td>\n",
       "      <td>-0.877550</td>\n",
       "      <td>0.107125</td>\n",
       "    </tr>\n",
       "    <tr>\n",
       "      <th>2</th>\n",
       "      <td>-1.70630</td>\n",
       "      <td>-0.853150</td>\n",
       "      <td>0.633600</td>\n",
       "    </tr>\n",
       "    <tr>\n",
       "      <th>3</th>\n",
       "      <td>-1.70875</td>\n",
       "      <td>-0.854375</td>\n",
       "      <td>0.638300</td>\n",
       "    </tr>\n",
       "    <tr>\n",
       "      <th>4</th>\n",
       "      <td>-1.71330</td>\n",
       "      <td>-0.856650</td>\n",
       "      <td>0.651275</td>\n",
       "    </tr>\n",
       "    <tr>\n",
       "      <th>5</th>\n",
       "      <td>-1.69805</td>\n",
       "      <td>-0.849025</td>\n",
       "      <td>0.669850</td>\n",
       "    </tr>\n",
       "    <tr>\n",
       "      <th>6</th>\n",
       "      <td>-1.70505</td>\n",
       "      <td>-0.852525</td>\n",
       "      <td>0.676675</td>\n",
       "    </tr>\n",
       "    <tr>\n",
       "      <th>7</th>\n",
       "      <td>-1.68630</td>\n",
       "      <td>-0.843150</td>\n",
       "      <td>0.770050</td>\n",
       "    </tr>\n",
       "    <tr>\n",
       "      <th>8</th>\n",
       "      <td>-1.69890</td>\n",
       "      <td>-0.849450</td>\n",
       "      <td>0.788125</td>\n",
       "    </tr>\n",
       "    <tr>\n",
       "      <th>9</th>\n",
       "      <td>-1.69345</td>\n",
       "      <td>-0.846725</td>\n",
       "      <td>0.756425</td>\n",
       "    </tr>\n",
       "  </tbody>\n",
       "</table>\n",
       "</div>"
      ],
      "text/plain": [
       "action                        double       hit     stand\n",
       "player_total dealer_card_up                             \n",
       "20           10             -1.71045 -0.855225  0.434475\n",
       "             11             -1.75510 -0.877550  0.107125\n",
       "             2              -1.70630 -0.853150  0.633600\n",
       "             3              -1.70875 -0.854375  0.638300\n",
       "             4              -1.71330 -0.856650  0.651275\n",
       "             5              -1.69805 -0.849025  0.669850\n",
       "             6              -1.70505 -0.852525  0.676675\n",
       "             7              -1.68630 -0.843150  0.770050\n",
       "             8              -1.69890 -0.849450  0.788125\n",
       "             9              -1.69345 -0.846725  0.756425"
      ]
     },
     "execution_count": 18,
     "metadata": {},
     "output_type": "execute_result"
    }
   ],
   "source": [
    "data['player_total'] = data['player_total'].astype(str)\n",
    "data['dealer_card_up'] = data['dealer_card_up'].astype(str)\n",
    "data.pivot(index=['player_total', 'dealer_card_up'], columns='action', values='expected_value')"
   ]
  },
  {
   "cell_type": "code",
   "execution_count": null,
   "id": "a1e5f739",
   "metadata": {},
   "outputs": [],
   "source": [
    "def pick\n",
    "\n",
    "def action_expected_values_to_best_action(action_expected_values: pd.DataFrame) -> pd.DataFrame:\n",
    "    data['player_total'] = data['player_total'].astype(str)\n",
    "    data['dealer_card_up'] = data['dealer_card_up'].astype(str)\n",
    "    data.pivot(index=['player_total', 'dealer_card_up'], columns='action', values='expected_value')"
   ]
  },
  {
   "cell_type": "code",
   "execution_count": 16,
   "id": "482ebfe6",
   "metadata": {},
   "outputs": [
    {
     "name": "stdout",
     "output_type": "stream",
     "text": [
      "           D     \n",
      "C          x    y\n",
      "A   B            \n",
      "bar one  3.0  NaN\n",
      "    two  NaN  4.0\n",
      "foo one  1.0  NaN\n",
      "    two  NaN  2.0\n"
     ]
    }
   ],
   "source": [
    "import pandas as pd\n",
    "\n",
    "df = pd.DataFrame({'A': ['foo', 'foo', 'bar', 'bar'],\n",
    "        'B': ['one', 'two', 'one', 'two'],\n",
    "        'C': ['x', 'y', 'x', 'y'],\n",
    "        'D': [1, 2, 3, 4]})\n",
    "\n",
    "# Set multi-index and pivot\n",
    "pivoted_df = df.set_index(['A', 'B', 'C']).unstack('C')\n",
    "print(pivoted_df)"
   ]
  }
 ],
 "metadata": {
  "kernelspec": {
   "display_name": ".venv",
   "language": "python",
   "name": "python3"
  },
  "language_info": {
   "codemirror_mode": {
    "name": "ipython",
    "version": 3
   },
   "file_extension": ".py",
   "mimetype": "text/x-python",
   "name": "python",
   "nbconvert_exporter": "python",
   "pygments_lexer": "ipython3",
   "version": "3.10.6"
  }
 },
 "nbformat": 4,
 "nbformat_minor": 5
}
