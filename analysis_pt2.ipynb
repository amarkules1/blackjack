{
 "cells": [
  {
   "cell_type": "code",
   "execution_count": 1,
   "id": "1c0d8e34",
   "metadata": {},
   "outputs": [],
   "source": [
    "import pandas as pd\n",
    "import blackjack_utils.game_config as gc\n",
    "import blackjack_utils.shoe as shoe\n",
    "import blackjack_utils.card as card\n",
    "import random\n",
    "import blackjack_utils.deck as deck\n",
    "from  blackjack_utils.utils import simulate_hand, build_combos, determine_best_action"
   ]
  },
  {
   "cell_type": "code",
   "execution_count": 2,
   "id": "0d0f4877",
   "metadata": {},
   "outputs": [],
   "source": [
    "ev_action_table = pd.read_csv('action_expected_values_fuller.csv')\n",
    "ev_action_table['player_total'] = ev_action_table['player_total'].astype(str)\n",
    "ev_action_table['dealer_card_up'] = ev_action_table['dealer_card_up'].astype(str)"
   ]
  },
  {
   "cell_type": "code",
   "execution_count": 3,
   "id": "39c72af0",
   "metadata": {},
   "outputs": [],
   "source": [
    "combos = build_combos()"
   ]
  },
  {
   "cell_type": "code",
   "execution_count": null,
   "id": "b8dc6117",
   "metadata": {},
   "outputs": [],
   "source": [
    "import random\n",
    "# now do it for 18-12\n",
    "for player_amt in ['11', '10', '9', '8', '7', '6', '5', '4']:\n",
    "    ev_action_table_stand = ev_action_table.copy()\n",
    "    ev_action_table_stand['best_action'] = 'stand'\n",
    "    ev_action_table_stand['player_total'] = player_amt\n",
    "    ev_action_table_stand.drop_duplicates(subset=['player_total', 'dealer_card_up'], inplace=True)\n",
    "    ev_action_table_double = ev_action_table_stand.copy()\n",
    "    ev_action_table_stand = pd.concat([ev_action_table, ev_action_table_stand], ignore_index=True)\n",
    "    ev_action_table_double['best_action'] = 'double'\n",
    "    ev_action_table_hit = ev_action_table_double.copy()\n",
    "    ev_action_table_double = pd.concat([ev_action_table_double, ev_action_table], ignore_index=True)\n",
    "    ev_action_table_hit['best_action'] = 'hit'\n",
    "    ev_action_table_hit = pd.concat([ev_action_table_hit, ev_action_table], ignore_index=True)\n",
    "    combos_for_19 = combos[player_amt]\n",
    "    game_config = gc.GameConfig(6, True, True, True, 1.5)\n",
    "    for dealer_card_rank in list(range(9)) + [12]:\n",
    "        hit_total = 0\n",
    "        double_total = 0\n",
    "        stand_total = 0\n",
    "        for i in range(40000):\n",
    "            if i % 1000 == 0:\n",
    "                print(f\"dealer_card_rank: {dealer_card_rank}, i: {i}, player_total: {player_amt}\")\n",
    "            deck = shoe.Shoe(6)\n",
    "            deck.shuffle()\n",
    "            player_cards = list(random.choice(combos_for_19))\n",
    "            dealer_card_up = card.Card().from_ints(dealer_card_rank, 0)\n",
    "            deck.remove(player_cards[0])\n",
    "            deck.remove(player_cards[1])\n",
    "            deck.remove(dealer_card_up)\n",
    "            hit_total += simulate_hand(game_config, player_cards, dealer_card_up, deck, ev_action_table_hit)\n",
    "            double_total += simulate_hand(game_config, player_cards, dealer_card_up, deck, ev_action_table_double)\n",
    "            stand_total += simulate_hand(game_config, player_cards, dealer_card_up, deck, ev_action_table_stand)\n",
    "        ev_action_table = pd.concat([ev_action_table, pd.DataFrame({'player_total': [player_amt], 'dealer_card_up': [dealer_card_up.get_card_value()], 'double': [double_total/40000], 'hit': [hit_total/40000], 'stand': [stand_total/40000]})], ignore_index=True)\n",
    "        ev_action_table['best_action'] = ev_action_table.apply(determine_best_action, axis=1)"
   ]
  },
  {
   "cell_type": "code",
   "execution_count": null,
   "id": "4c4b53be",
   "metadata": {},
   "outputs": [],
   "source": [
    "ev_action_table.to_csv('action_expected_values_fuller_pt2.csv')"
   ]
  }
 ],
 "metadata": {
  "kernelspec": {
   "display_name": ".venv",
   "language": "python",
   "name": "python3"
  },
  "language_info": {
   "codemirror_mode": {
    "name": "ipython",
    "version": 3
   },
   "file_extension": ".py",
   "mimetype": "text/x-python",
   "name": "python",
   "nbconvert_exporter": "python",
   "pygments_lexer": "ipython3",
   "version": "3.10.6"
  }
 },
 "nbformat": 4,
 "nbformat_minor": 5
}
